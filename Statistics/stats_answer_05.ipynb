{
 "cells": [
  {
   "attachments": {},
   "cell_type": "markdown",
   "metadata": {},
   "source": [
    "# Statistics Answer 4"
   ]
  },
  {
   "attachments": {},
   "cell_type": "markdown",
   "metadata": {},
   "source": [
    "Let __P(A)__ and __P(B)__ be the probability of taxi is from Company A and Company B also P(T) be the probability of taxi is on time.<br />\n",
    "Given $P(A)=0.8$ and $P(B)=0.2$<br />\n",
    "Probability of taxi on time of Company A $P(\\frac{T}{A})=0.95$<br />\n",
    "Probability of taxi on time of Company B $P(\\frac{T}{B})=0.9$<br />\n",
    "So Probability of taxi on time <br />\n",
    "$P(T)=P(\\frac{T}{A})P(A)+P(\\frac{T}{B})P(B)$<br />\n",
    "$P(T)=(0.8)(0.95)+(0.2)(0.9)=0.94$<br />\n",
    "So the probability of taxi is from Company A given taxi is on time<br />\n",
    "$P(\\frac{A}{T})=\\frac{P(\\frac{T}{A})P(A)}{P(T)}$ (Bayes Theorem)<br />\n",
    "$P(\\frac{A}{T})=\\frac{(0.95)(0.8)}{0.94}$<br />\n",
    "$P(\\frac{A}{T})=0.808$<br />\n",
    "So the probability of taxi is from Company A given taxi is late is:<br />\n",
    "$\\Rightarrow1-P(\\frac{A}{T})=1-0.808=0.192$<br />\n",
    "There is __19.2%__ chance that if a random taxi is late then it is from Company A.\n",
    "\n"
   ]
  }
 ],
 "metadata": {
  "kernelspec": {
   "display_name": "Python 3",
   "language": "python",
   "name": "python3"
  },
  "language_info": {
   "codemirror_mode": {
    "name": "ipython",
    "version": 3
   },
   "file_extension": ".py",
   "mimetype": "text/x-python",
   "name": "python",
   "nbconvert_exporter": "python",
   "pygments_lexer": "ipython3",
   "version": "3.10.4"
  },
  "orig_nbformat": 4
 },
 "nbformat": 4,
 "nbformat_minor": 2
}
