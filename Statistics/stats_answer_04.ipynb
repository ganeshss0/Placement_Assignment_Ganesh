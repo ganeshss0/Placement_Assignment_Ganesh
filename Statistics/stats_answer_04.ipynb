{
 "cells": [
  {
   "attachments": {},
   "cell_type": "markdown",
   "metadata": {},
   "source": [
    "# Statistics Answer 4"
   ]
  },
  {
   "attachments": {},
   "cell_type": "markdown",
   "metadata": {},
   "source": [
    "__This question has some missing information it does not tell whether the number choosed by 20 friends are repeatative or non-repeatative in nature.__"
   ]
  },
  {
   "attachments": {},
   "cell_type": "markdown",
   "metadata": {},
   "source": [
    "Let number choosed by 20 friends are __non-repeatative__ in nature, So the hat contains slips of number ranging from 1 to 20 here order of these number does not matter.<br />\n",
    "So favourable cases = __{1, 4, 9, 16}__<br />\n",
    "Probability of slip choosen randomly = $4/20 = 0.2$"
   ]
  },
  {
   "attachments": {},
   "cell_type": "markdown",
   "metadata": {},
   "source": [
    "If the number choosen by 20 friends are __repeative__ in nature.<br /> \n",
    "So the total possible numbers formed by 20 digits if repeation of digit choosed by person is allowed are-"
   ]
  },
  {
   "cell_type": "code",
   "execution_count": 1,
   "metadata": {},
   "outputs": [
    {
     "name": "stdout",
     "output_type": "stream",
     "text": [
      "Total number of combination of 20 digits: 68923264410.0\n"
     ]
    }
   ],
   "source": [
    "import scipy.special as sp\n",
    "total_combination = sp.comb(20, 20, repetition=True)\n",
    "print('Total number of combination of 20 digits:', total_combination)"
   ]
  },
  {
   "attachments": {},
   "cell_type": "markdown",
   "metadata": {},
   "source": [
    "If we remove perfect square numbers we left with 16 numbers which are non=perfect square, So the total number of combination of a 20 digits number from 16 elements is-"
   ]
  },
  {
   "cell_type": "code",
   "execution_count": 2,
   "metadata": {},
   "outputs": [
    {
     "name": "stdout",
     "output_type": "stream",
     "text": [
      "Combination of Non-perfect square digits: 3247943160.0\n"
     ]
    }
   ],
   "source": [
    "non_perfect_combination = sp.comb(16, 20, repetition=True)\n",
    "print('Combination of Non-perfect square digits:', non_perfect_combination)"
   ]
  },
  {
   "attachments": {},
   "cell_type": "markdown",
   "metadata": {},
   "source": [
    "Combination of 20 digits number which contains at least one perfect square:-"
   ]
  },
  {
   "cell_type": "code",
   "execution_count": 3,
   "metadata": {},
   "outputs": [
    {
     "name": "stdout",
     "output_type": "stream",
     "text": [
      "Combination of Perfect square digits: 65675321250.0\n"
     ]
    }
   ],
   "source": [
    "perfect_combination = total_combination - non_perfect_combination\n",
    "print('Combination of Perfect square digits:', perfect_combination)"
   ]
  },
  {
   "attachments": {},
   "cell_type": "markdown",
   "metadata": {},
   "source": [
    "So probability of combination of 20 digits contains at least one perfect square:-"
   ]
  },
  {
   "cell_type": "code",
   "execution_count": 4,
   "metadata": {},
   "outputs": [
    {
     "name": "stdout",
     "output_type": "stream",
     "text": [
      "Probability of Combination of 20 digits contains at least one perfect square: 0.95\n"
     ]
    }
   ],
   "source": [
    "Prob_perfect = perfect_combination/total_combination\n",
    "print('Probability of Combination of 20 digits contains at least one perfect square:', Prob_perfect.round(2))"
   ]
  },
  {
   "attachments": {},
   "cell_type": "markdown",
   "metadata": {},
   "source": [
    "After choosing the combination of 20 digits we need to choose one slip out these 20 digits, but the number of perfect square in these 20 digits would be ranging from 1 to 20, Probability of at least one perfect square is:-"
   ]
  },
  {
   "cell_type": "code",
   "execution_count": 5,
   "metadata": {},
   "outputs": [
    {
     "name": "stdout",
     "output_type": "stream",
     "text": [
      "Probability of at least one perfect square in 20 digits: 0.05\n"
     ]
    }
   ],
   "source": [
    "at_least_one = Prob_perfect/20\n",
    "print('Probability of at least one perfect square in 20 digits:', at_least_one.round(2))"
   ]
  },
  {
   "attachments": {},
   "cell_type": "markdown",
   "metadata": {},
   "source": [
    "So the probability of choosing a slip randomly out of 20 slips, where each slip has number from 1 to 20 and number on slips are repeatatively is greater than $>0.05$."
   ]
  }
 ],
 "metadata": {
  "kernelspec": {
   "display_name": "Python 3",
   "language": "python",
   "name": "python3"
  },
  "language_info": {
   "codemirror_mode": {
    "name": "ipython",
    "version": 3
   },
   "file_extension": ".py",
   "mimetype": "text/x-python",
   "name": "python",
   "nbconvert_exporter": "python",
   "pygments_lexer": "ipython3",
   "version": "3.10.4"
  },
  "orig_nbformat": 4
 },
 "nbformat": 4,
 "nbformat_minor": 2
}
