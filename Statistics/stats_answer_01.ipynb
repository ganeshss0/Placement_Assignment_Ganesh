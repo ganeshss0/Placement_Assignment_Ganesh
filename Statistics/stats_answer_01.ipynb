{
  "cells": [
    {
      "cell_type": "markdown",
      "metadata": {
        "tags": [
          "show_line_numbers"
        ]
      },
      "source": [
        "# Statistics Answer 1"
      ],
      "id": "6bcd312b"
    },
    {
      "id": "347d9bea",
      "cell_type": "markdown",
      "source": "**Correlation** refers to how closely two sets of data are releted to each other it can either be positive relation or negitive relation. According to question if correlation between SAT scores and college GPA is 0.7 means that SAT score and GPA are in positive correlation. Here is an example of how 0.7 correlation cofficient between look like:",
      "metadata": {
        "noteable": {
          "cell_type": "markdown"
        }
      }
    },
    {
      "id": "a1313225-3468-4c56-8d95-e8fe5d52ce2f",
      "cell_type": "code",
      "metadata": {
        "noteable": {
          "cell_type": "python",
          "output_collection_id": "63f9c88c-4c03-4732-b298-e6867be065d0"
        },
        "ExecuteTime": {
          "end_time": "2023-06-04T10:40:23.091677+00:00",
          "start_time": "2023-06-04T10:40:22.935794+00:00"
        }
      },
      "execution_count": null,
      "source": "from sklearn import datasets",
      "outputs": []
    },
    {
      "id": "0b92b690-a320-4847-b7d9-72273317bfc6",
      "cell_type": "code",
      "metadata": {
        "jupyter": {
          "outputs_hidden": false,
          "source_hidden": false
        },
        "noteable": {
          "cell_type": "code",
          "output_collection_id": "dd1dd2a2-5cd4-4661-834a-be4087ee6bc5"
        },
        "ExecuteTime": {
          "end_time": "2023-06-04T10:40:24.688165+00:00",
          "start_time": "2023-06-04T10:40:24.531053+00:00"
        }
      },
      "execution_count": null,
      "source": "X, y = datasets.make_regression(n_samples=500, random_state=7, n_features=2, noise=0.1)",
      "outputs": []
    },
    {
      "id": "caddc4e6-fc9c-40c3-802d-b22a447dc0f2",
      "cell_type": "code",
      "metadata": {
        "jupyter": {
          "outputs_hidden": false,
          "source_hidden": false
        },
        "noteable": {
          "cell_type": "code",
          "output_collection_id": "99ab2291-8599-4f32-b5fe-2f264ff60982"
        },
        "ExecuteTime": {
          "end_time": "2023-06-04T10:41:53.112111+00:00",
          "start_time": "2023-06-04T10:41:52.956326+00:00"
        }
      },
      "execution_count": null,
      "source": "correlation_cofficient = 0.7\nX[:, 1] = correlation_cofficient * X[:, 0] + (1 - correlation_cofficient)",
      "outputs": []
    },
    {
      "id": "56902bfd-e055-4bb4-b71f-48ed950c1eb2",
      "cell_type": "code",
      "metadata": {
        "jupyter": {
          "outputs_hidden": false,
          "source_hidden": false
        },
        "noteable": {
          "cell_type": "code"
        }
      },
      "execution_count": null,
      "source": "np.correg",
      "outputs": []
    }
  ],
  "metadata": {
    "language_info": {
      "name": "python"
    },
    "orig_nbformat": 4,
    "noteable": {
      "last_transaction_id": "a7695c5c-67cf-4b3f-bc0a-ad9fd3cd4446"
    },
    "display_mode": "fullwidth",
    "selected_hardware_size": "small"
  },
  "nbformat": 4,
  "nbformat_minor": 5
}