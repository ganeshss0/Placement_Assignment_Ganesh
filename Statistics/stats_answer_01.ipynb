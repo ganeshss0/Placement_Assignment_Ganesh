{
  "cells": [
    {
      "cell_type": "markdown",
      "metadata": {
        "tags": [
          "show_line_numbers"
        ]
      },
      "source": [
        "# Statistics Answer 1"
      ],
      "id": "6bcd312b"
    },
    {
      "id": "347d9bea",
      "cell_type": "markdown",
      "source": "**Correlation** refers to how closely two sets of data are releted to each other it can either be positive relation or negitive relation. According to question if correlation between SAT scores and college GPA is 0.7 means that SAT score and GPA are in positive correlation. Here is an example of how 0.7 correlation cofficient between look like:",
      "metadata": {
        "noteable": {
          "cell_type": "markdown"
        }
      }
    },
    {
      "id": "a1313225-3468-4c56-8d95-e8fe5d52ce2f",
      "cell_type": "code",
      "metadata": {
        "noteable": {
          "cell_type": "python",
          "output_collection_id": "ac3c4f88-b06a-4b04-bd4f-1f78691e4213"
        },
        "ExecuteTime": {
          "end_time": "2023-06-05T09:51:15.019848+00:00",
          "start_time": "2023-06-05T09:51:14.864500+00:00"
        }
      },
      "execution_count": null,
      "source": "from sklearn import datasets\nimport numpy as np",
      "outputs": []
    },
    {
      "id": "0b92b690-a320-4847-b7d9-72273317bfc6",
      "cell_type": "code",
      "metadata": {
        "jupyter": {
          "outputs_hidden": false,
          "source_hidden": false
        },
        "noteable": {
          "cell_type": "code",
          "output_collection_id": "5320e72d-6241-4345-a53a-a282fde3bae3"
        },
        "ExecuteTime": {
          "end_time": "2023-06-05T09:51:24.234405+00:00",
          "start_time": "2023-06-05T09:51:24.075555+00:00"
        }
      },
      "execution_count": null,
      "source": "X, _ = datasets.make_regression(n_samples=500, random_state=7, n_features=2, noise=0.1)",
      "outputs": []
    },
    {
      "id": "caddc4e6-fc9c-40c3-802d-b22a447dc0f2",
      "cell_type": "code",
      "metadata": {
        "jupyter": {
          "outputs_hidden": false,
          "source_hidden": false
        },
        "noteable": {
          "cell_type": "code",
          "output_collection_id": "61ff5fe3-db3d-4775-8ed5-9221c19d999d"
        },
        "ExecuteTime": {
          "end_time": "2023-06-05T09:51:48.474791+00:00",
          "start_time": "2023-06-05T09:51:48.317866+00:00"
        }
      },
      "execution_count": null,
      "source": "correlation_coefficient = 0.7\nX[:, 1] = correlation_coefficient * X[:, 0] + (1 - correlation_coefficient)",
      "outputs": []
    },
    {
      "id": "56902bfd-e055-4bb4-b71f-48ed950c1eb2",
      "cell_type": "code",
      "metadata": {
        "jupyter": {
          "outputs_hidden": false,
          "source_hidden": false
        },
        "noteable": {
          "cell_type": "code",
          "output_collection_id": "c4c9ec63-d4ee-4ccd-8239-d0c4aee5ccb8"
        },
        "ExecuteTime": {
          "end_time": "2023-06-05T09:51:54.938264+00:00",
          "start_time": "2023-06-05T09:51:54.778246+00:00"
        }
      },
      "execution_count": null,
      "source": "np.corrcoef(X.T)",
      "outputs": []
    },
    {
      "id": "b49f7f7a-d77a-4fc9-88eb-dd4469658b2e",
      "cell_type": "code",
      "metadata": {
        "jupyter": {
          "outputs_hidden": false,
          "source_hidden": false
        },
        "noteable": {
          "cell_type": "code",
          "output_collection_id": "bbe486e3-7229-40fd-a516-936621a7a041"
        },
        "ExecuteTime": {
          "end_time": "2023-06-05T09:52:24.990330+00:00",
          "start_time": "2023-06-05T09:52:24.211016+00:00"
        }
      },
      "execution_count": null,
      "source": "import plotly.express as px\npx.scatter(x=X[:,0], y=X[:, 1])",
      "outputs": []
    },
    {
      "id": "85baf16a-8c95-4ddd-b0b6-dfa279ba820c",
      "cell_type": "code",
      "metadata": {
        "jupyter": {
          "outputs_hidden": false,
          "source_hidden": false
        },
        "noteable": {
          "cell_type": "code",
          "output_collection_id": "54f1a3a6-9f42-452a-97ca-5ce504f2d34d"
        },
        "ExecuteTime": {
          "end_time": "2023-06-04T10:47:53.269120+00:00",
          "start_time": "2023-06-04T10:47:53.112070+00:00"
        }
      },
      "execution_count": null,
      "source": "import plotly",
      "outputs": []
    },
    {
      "id": "bb1db1a6-5a9c-41b9-ade0-ce99fc17fcba",
      "cell_type": "code",
      "metadata": {
        "jupyter": {
          "outputs_hidden": false,
          "source_hidden": false
        },
        "noteable": {
          "cell_type": "code",
          "output_collection_id": "6c0dc4d4-99d0-496c-831b-f8b5d35c45f0"
        },
        "ExecuteTime": {
          "end_time": "2023-06-05T09:52:13.999355+00:00",
          "start_time": "2023-06-05T09:52:13.440872+00:00"
        }
      },
      "execution_count": null,
      "source": "x[:, 1]",
      "outputs": []
    },
    {
      "id": "09373e8d-a855-40d5-a088-23a90c354dc2",
      "cell_type": "code",
      "metadata": {
        "jupyter": {
          "outputs_hidden": false,
          "source_hidden": false
        },
        "noteable": {
          "cell_type": "code"
        }
      },
      "execution_count": null,
      "source": "",
      "outputs": []
    }
  ],
  "metadata": {
    "language_info": {
      "name": "python"
    },
    "orig_nbformat": 4,
    "noteable": {
      "last_transaction_id": "2762a2c3-1175-44e2-abcc-f2aba888d17c"
    },
    "display_mode": "fullwidth",
    "selected_hardware_size": "small"
  },
  "nbformat": 4,
  "nbformat_minor": 5
}