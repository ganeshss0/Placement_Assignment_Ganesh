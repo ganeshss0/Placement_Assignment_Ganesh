{
  "cells": [
    {
      "cell_type": "markdown",
      "metadata": {
        "tags": [
          "show_line_numbers"
        ]
      },
      "source": [
        "# Statistics Answer 1"
      ],
      "id": "6bcd312b"
    },
    {
      "id": "347d9bea",
      "cell_type": "markdown",
      "source": "**Correlation** refers to how closely two sets of data are releted to each other it can either be positive relation or negitive relation. According to question if correlation between SAT scores and college GPA is 0.7 means that SAT score and GPA are in positive correlation. Here is an example of how 0.7 correlation cofficient between look like:",
      "metadata": {
        "noteable": {
          "cell_type": "markdown"
        }
      }
    },
    {
      "id": "a1313225-3468-4c56-8d95-e8fe5d52ce2f",
      "cell_type": "code",
      "metadata": {
        "noteable": {
          "cell_type": "python",
          "output_collection_id": "ac3c4f88-b06a-4b04-bd4f-1f78691e4213"
        },
        "ExecuteTime": {
          "end_time": "2023-06-05T09:51:15.019848+00:00",
          "start_time": "2023-06-05T09:51:14.864500+00:00"
        }
      },
      "execution_count": null,
      "source": "from sklearn import datasets\nimport numpy as np",
      "outputs": []
    },
    {
      "id": "0b92b690-a320-4847-b7d9-72273317bfc6",
      "cell_type": "code",
      "metadata": {
        "jupyter": {
          "outputs_hidden": false,
          "source_hidden": false
        },
        "noteable": {
          "cell_type": "code",
          "output_collection_id": "61b0f2b1-1bc5-4c37-bec9-e700429e7de5"
        },
        "ExecuteTime": {
          "end_time": "2023-06-05T10:26:13.087303+00:00",
          "start_time": "2023-06-05T10:26:12.927456+00:00"
        }
      },
      "execution_count": null,
      "source": "X, _ = datasets.make_regression(n_samples=500, n_features=2, noise=0.1, random_state=23)\nprint('Current Correlation Coefficient', np.corrcoef(X.T)[0, 1])",
      "outputs": []
    },
    {
      "id": "caddc4e6-fc9c-40c3-802d-b22a447dc0f2",
      "cell_type": "code",
      "metadata": {
        "jupyter": {
          "outputs_hidden": false,
          "source_hidden": false
        },
        "noteable": {
          "cell_type": "code",
          "output_collection_id": "e56a307e-9756-4119-be16-d4aa0c42f48a"
        },
        "ExecuteTime": {
          "end_time": "2023-06-05T10:27:18.492626+00:00",
          "start_time": "2023-06-05T10:27:18.334227+00:00"
        }
      },
      "execution_count": null,
      "source": "coef = 0.7\nX[:, 1] = (coef * X[:, 0]) + (np.sqrt(1 - correlation_coefficient) * X[:, 1])\nprint('Correlation Cofficient', np.corrcoef(X.T)[0, 1])",
      "outputs": []
    },
    {
      "id": "0499ac18-9080-4ad2-9514-82de246a5add",
      "cell_type": "markdown",
      "source": "### A scatter plot of data having correlation cofficient nealy to 0.7",
      "metadata": {
        "noteable": {
          "cell_type": "markdown"
        }
      }
    },
    {
      "id": "b49f7f7a-d77a-4fc9-88eb-dd4469658b2e",
      "cell_type": "code",
      "metadata": {
        "jupyter": {
          "outputs_hidden": false,
          "source_hidden": false
        },
        "noteable": {
          "cell_type": "code",
          "output_collection_id": "77c9e5d6-d0cd-4c32-aac7-79ee7f0f4fbb"
        },
        "ExecuteTime": {
          "end_time": "2023-06-05T10:43:32.528952+00:00",
          "start_time": "2023-06-05T10:43:32.318654+00:00"
        }
      },
      "execution_count": null,
      "source": "import plotly.express as px\nfig = px.scatter(X, x=0, y=1, labels={'0':'X1', '1':'X2'}, title='Correlation Cofficient = 0.77')\nfig.show()",
      "outputs": []
    }
  ],
  "metadata": {
    "language_info": {
      "name": "python"
    },
    "orig_nbformat": 4,
    "noteable": {
      "last_transaction_id": "0c0cf70b-8118-479f-8200-5995e375a7f6"
    },
    "display_mode": "fullwidth",
    "selected_hardware_size": "small"
  },
  "nbformat": 4,
  "nbformat_minor": 5
}