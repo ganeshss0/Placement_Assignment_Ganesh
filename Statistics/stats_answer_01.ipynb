{
  "cells": [
    {
      "cell_type": "markdown",
      "metadata": {
        "tags": [
          "show_line_numbers"
        ]
      },
      "source": [
        "# Statistics Answer 1"
      ],
      "id": "6bcd312b"
    },
    {
      "id": "347d9bea",
      "cell_type": "markdown",
      "source": "**Correlation** refers to how closely two sets of data are releted to each other it can either be positive relation or negitive relation. According to question if correlation between SAT scores and college GPA is 0.7 means that SAT score and GPA are in positive correlation. Here is an example of how 0.7 correlation cofficient between look like:",
      "metadata": {
        "noteable": {
          "cell_type": "markdown"
        }
      }
    },
    {
      "id": "a1313225-3468-4c56-8d95-e8fe5d52ce2f",
      "cell_type": "code",
      "metadata": {
        "noteable": {
          "cell_type": "python",
          "output_collection_id": "ac3c4f88-b06a-4b04-bd4f-1f78691e4213"
        },
        "ExecuteTime": {
          "end_time": "2023-06-05T09:51:15.019848+00:00",
          "start_time": "2023-06-05T09:51:14.864500+00:00"
        }
      },
      "execution_count": null,
      "source": "from sklearn import datasets\nimport numpy as np",
      "outputs": []
    },
    {
      "id": "0b92b690-a320-4847-b7d9-72273317bfc6",
      "cell_type": "code",
      "metadata": {
        "jupyter": {
          "outputs_hidden": false,
          "source_hidden": false
        },
        "noteable": {
          "cell_type": "code",
          "output_collection_id": "61b0f2b1-1bc5-4c37-bec9-e700429e7de5"
        },
        "ExecuteTime": {
          "end_time": "2023-06-05T10:26:13.087303+00:00",
          "start_time": "2023-06-05T10:26:12.927456+00:00"
        }
      },
      "execution_count": null,
      "source": "X, _ = datasets.make_regression(n_samples=500, n_features=2, noise=0.1, random_state=23)\nprint('Current Correlation Coefficient', np.corrcoef(X.T)[0, 1])",
      "outputs": []
    },
    {
      "id": "caddc4e6-fc9c-40c3-802d-b22a447dc0f2",
      "cell_type": "code",
      "metadata": {
        "jupyter": {
          "outputs_hidden": false,
          "source_hidden": false
        },
        "noteable": {
          "cell_type": "code",
          "output_collection_id": "0d28c243-4b43-4e87-9e8e-dc559d2d3361"
        },
        "ExecuteTime": {
          "end_time": "2023-06-05T10:24:42.887962+00:00",
          "start_time": "2023-06-05T10:24:42.712516+00:00"
        }
      },
      "execution_count": null,
      "source": "coef = 0.7\nX[:, 1] = (coef * X[:, 0]) + (np.sqrt(1 - correlation_coefficient) * X[:, 1])\nprint('Correlation Cofficient', n)",
      "outputs": []
    },
    {
      "id": "56902bfd-e055-4bb4-b71f-48ed950c1eb2",
      "cell_type": "code",
      "metadata": {
        "jupyter": {
          "outputs_hidden": false,
          "source_hidden": false
        },
        "noteable": {
          "cell_type": "code",
          "output_collection_id": "a676e1e8-6672-4d5c-ba40-aa0d7aa555fb"
        },
        "ExecuteTime": {
          "end_time": "2023-06-05T10:24:47.613015+00:00",
          "start_time": "2023-06-05T10:24:47.454445+00:00"
        }
      },
      "execution_count": null,
      "source": "np.corrcoef(X.T)",
      "outputs": []
    },
    {
      "id": "b49f7f7a-d77a-4fc9-88eb-dd4469658b2e",
      "cell_type": "code",
      "metadata": {
        "jupyter": {
          "outputs_hidden": false,
          "source_hidden": false
        },
        "noteable": {
          "cell_type": "code",
          "output_collection_id": "52af1ebb-6d40-4f1e-b243-c0db39baae00"
        },
        "ExecuteTime": {
          "end_time": "2023-06-05T10:17:44.953649+00:00",
          "start_time": "2023-06-05T10:17:44.736197+00:00"
        }
      },
      "execution_count": null,
      "source": "import plotly.express as px\npx.scatter(x=X[:,0], y=X[:, 1])",
      "outputs": []
    }
  ],
  "metadata": {
    "language_info": {
      "name": "python"
    },
    "orig_nbformat": 4,
    "noteable": {
      "last_transaction_id": "55d1ebd9-0672-4ad3-9808-45a85615ea23"
    },
    "display_mode": "fullwidth",
    "selected_hardware_size": "small"
  },
  "nbformat": 4,
  "nbformat_minor": 5
}