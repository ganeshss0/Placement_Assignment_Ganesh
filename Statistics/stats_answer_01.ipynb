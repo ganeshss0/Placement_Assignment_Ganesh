{
  "cells": [
    {
      "cell_type": "markdown",
      "metadata": {
        "tags": [
          "show_line_numbers"
        ]
      },
      "source": [
        "# Statistics Answer 1"
      ],
      "id": "6bcd312b"
    },
    {
      "id": "347d9bea",
      "cell_type": "markdown",
      "source": "**Correlation** refers to how closely two sets of data are releted to each other it can either be positive relation or negitive relation. According to question if correlation between SAT scores and college GPA is 0.7 means that SAT score and GPA are in positive correlation. Here is an example of how 0.7 correlation cofficient between look like:",
      "metadata": {
        "noteable": {
          "cell_type": "markdown"
        }
      }
    },
    {
      "id": "a1313225-3468-4c56-8d95-e8fe5d52ce2f",
      "cell_type": "code",
      "metadata": {
        "noteable": {
          "cell_type": "python",
          "output_collection_id": "ec3d81c5-f6c1-493a-9683-222c7cef7d60"
        },
        "ExecuteTime": {
          "end_time": "2023-06-04T10:23:14.730554+00:00",
          "start_time": "2023-06-04T10:23:14.120786+00:00"
        }
      },
      "execution_count": null,
      "source": "from sklearn import datasets",
      "outputs": []
    },
    {
      "id": "0b92b690-a320-4847-b7d9-72273317bfc6",
      "cell_type": "code",
      "metadata": {
        "jupyter": {
          "outputs_hidden": false,
          "source_hidden": false
        },
        "noteable": {
          "cell_type": "code",
          "output_collection_id": "cc1d2866-c7e1-4065-b2e9-5486dc64fa8e"
        },
        "ExecuteTime": {
          "end_time": "2023-06-04T10:23:41.895850+00:00",
          "start_time": "2023-06-04T10:23:41.735399+00:00"
        }
      },
      "execution_count": null,
      "source": "X, y = datasets.make_regression(random_state= 7, )",
      "outputs": []
    },
    {
      "id": "caddc4e6-fc9c-40c3-802d-b22a447dc0f2",
      "cell_type": "code",
      "metadata": {
        "jupyter": {
          "outputs_hidden": false,
          "source_hidden": false
        },
        "noteable": {
          "cell_type": "code",
          "output_collection_id": "7397d0a8-dc01-4d2e-9e37-6d65820418c4"
        },
        "ExecuteTime": {
          "end_time": "2023-06-04T10:33:22.754742+00:00",
          "start_time": "2023-06-04T10:33:22.225740+00:00"
        }
      },
      "execution_count": null,
      "source": "datasets.generate_correlated_samples",
      "outputs": []
    },
    {
      "id": "56902bfd-e055-4bb4-b71f-48ed950c1eb2",
      "cell_type": "code",
      "metadata": {
        "jupyter": {
          "outputs_hidden": false,
          "source_hidden": false
        },
        "noteable": {
          "cell_type": "code"
        }
      },
      "execution_count": null,
      "source": "",
      "outputs": []
    }
  ],
  "metadata": {
    "language_info": {
      "name": "python"
    },
    "orig_nbformat": 4,
    "noteable": {
      "last_transaction_id": "7d91f821-1548-4d75-ae24-f4f0b07be034"
    },
    "display_mode": "fullwidth",
    "selected_hardware_size": "small"
  },
  "nbformat": 4,
  "nbformat_minor": 5
}