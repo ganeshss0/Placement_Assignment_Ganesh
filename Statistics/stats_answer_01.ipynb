{
  "cells": [
    {
      "cell_type": "markdown",
      "metadata": {
        "tags": [
          "show_line_numbers"
        ]
      },
      "source": [
        "# Statistics Answer 1"
      ],
      "id": "6bcd312b"
    },
    {
      "id": "347d9bea",
      "cell_type": "markdown",
      "source": "**Correlation** refers to how closely two sets of data are releted to each other it can either be positive relation or negitive relation. According to question if correlation between SAT scores and college GPA is 0.7 means that SAT score and GPA are in positive correlation. Here is an example of how 0.7 correlation cofficient between look like:",
      "metadata": {
        "noteable": {
          "cell_type": "markdown"
        }
      }
    },
    {
      "id": "a1313225-3468-4c56-8d95-e8fe5d52ce2f",
      "cell_type": "code",
      "metadata": {
        "noteable": {
          "cell_type": "python",
          "output_collection_id": "28d13edf-7bc7-4657-b069-504bf419a42d"
        },
        "ExecuteTime": {
          "end_time": "2023-06-04T10:42:37.347705+00:00",
          "start_time": "2023-06-04T10:42:37.190593+00:00"
        }
      },
      "execution_count": null,
      "source": "from sklearn import datasets\nimport numpy as np",
      "outputs": []
    },
    {
      "id": "0b92b690-a320-4847-b7d9-72273317bfc6",
      "cell_type": "code",
      "metadata": {
        "jupyter": {
          "outputs_hidden": false,
          "source_hidden": false
        },
        "noteable": {
          "cell_type": "code",
          "output_collection_id": "dd1dd2a2-5cd4-4661-834a-be4087ee6bc5"
        },
        "ExecuteTime": {
          "end_time": "2023-06-04T10:40:24.688165+00:00",
          "start_time": "2023-06-04T10:40:24.531053+00:00"
        }
      },
      "execution_count": null,
      "source": "X, y = datasets.make_regression(n_samples=500, random_state=7, n_features=2, noise=0.1)",
      "outputs": []
    },
    {
      "id": "caddc4e6-fc9c-40c3-802d-b22a447dc0f2",
      "cell_type": "code",
      "metadata": {
        "jupyter": {
          "outputs_hidden": false,
          "source_hidden": false
        },
        "noteable": {
          "cell_type": "code",
          "output_collection_id": "99ab2291-8599-4f32-b5fe-2f264ff60982"
        },
        "ExecuteTime": {
          "end_time": "2023-06-04T10:41:53.112111+00:00",
          "start_time": "2023-06-04T10:41:52.956326+00:00"
        }
      },
      "execution_count": null,
      "source": "correlation_cofficient = 0.7\nX[:, 1] = correlation_cofficient * X[:, 0] + (1 - correlation_cofficient)",
      "outputs": []
    },
    {
      "id": "56902bfd-e055-4bb4-b71f-48ed950c1eb2",
      "cell_type": "code",
      "metadata": {
        "jupyter": {
          "outputs_hidden": false,
          "source_hidden": false
        },
        "noteable": {
          "cell_type": "code",
          "output_collection_id": "e64d5ba6-90c8-4deb-a9b8-57803c21a69e"
        },
        "ExecuteTime": {
          "end_time": "2023-06-04T10:42:55.550830+00:00",
          "start_time": "2023-06-04T10:42:55.392659+00:00"
        }
      },
      "execution_count": null,
      "source": "np.corrcoef(X.T)",
      "outputs": []
    },
    {
      "id": "f491ff7d-8d90-4063-9d50-9372c6d2264e",
      "cell_type": "code",
      "metadata": {
        "jupyter": {
          "outputs_hidden": false,
          "source_hidden": false
        },
        "noteable": {
          "cell_type": "code",
          "output_collection_id": "fa7b3706-77f9-4071-8b7f-7cd31b10be94"
        },
        "ExecuteTime": {
          "end_time": "2023-06-04T10:43:18.649552+00:00",
          "start_time": "2023-06-04T10:43:18.481748+00:00"
        }
      },
      "execution_count": null,
      "source": "X",
      "outputs": []
    },
    {
      "id": "b49f7f7a-d77a-4fc9-88eb-dd4469658b2e",
      "cell_type": "code",
      "metadata": {
        "jupyter": {
          "outputs_hidden": false,
          "source_hidden": false
        },
        "noteable": {
          "cell_type": "code"
        }
      },
      "execution_count": null,
      "source": "",
      "outputs": []
    }
  ],
  "metadata": {
    "language_info": {
      "name": "python"
    },
    "orig_nbformat": 4,
    "noteable": {
      "last_transaction_id": "a95fa936-66da-43b0-bdb5-2b251817e521"
    },
    "display_mode": "fullwidth",
    "selected_hardware_size": "small"
  },
  "nbformat": 4,
  "nbformat_minor": 5
}