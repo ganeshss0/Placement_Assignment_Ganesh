{
  "cells": [
    {
      "cell_type": "markdown",
      "metadata": {},
      "source": [
        "# Statistics Answer 1"
      ],
      "id": "6bcd312b"
    },
    {
      "cell_type": "code",
      "execution_count": null,
      "metadata": {},
      "outputs": [],
      "source": "# i",
      "id": "347d9bea"
    }
  ],
  "metadata": {
    "language_info": {
      "name": "python"
    },
    "orig_nbformat": 4,
    "noteable": {
      "last_transaction_id": "91eb90cc-b27b-4871-b0b5-617de19ef850"
    }
  },
  "nbformat": 4,
  "nbformat_minor": 5
}