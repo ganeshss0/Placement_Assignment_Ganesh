{
  "cells": [
    {
      "cell_type": "markdown",
      "metadata": {
        "tags": [
          "show_line_numbers"
        ]
      },
      "source": [
        "# Statistics Answer 1"
      ],
      "id": "6bcd312b"
    },
    {
      "id": "347d9bea",
      "cell_type": "markdown",
      "source": "**Correlation** refers to how closely two sets of data are releted to each other it can either be positive relation or negitive relation. According to question if correlation between SAT scores and college GPA is 0.7 means that SAT score and GPA are in positive correlation. Here is an example of how 0.7 correlation cofficient between look like:",
      "metadata": {
        "noteable": {
          "cell_type": "markdown"
        }
      }
    },
    {
      "id": "a1313225-3468-4c56-8d95-e8fe5d52ce2f",
      "cell_type": "code",
      "metadata": {
        "noteable": {
          "cell_type": "python",
          "output_collection_id": "ac3c4f88-b06a-4b04-bd4f-1f78691e4213"
        },
        "ExecuteTime": {
          "end_time": "2023-06-05T09:51:15.019848+00:00",
          "start_time": "2023-06-05T09:51:14.864500+00:00"
        }
      },
      "execution_count": null,
      "source": "from sklearn import datasets\nimport numpy as np",
      "outputs": []
    },
    {
      "id": "0b92b690-a320-4847-b7d9-72273317bfc6",
      "cell_type": "code",
      "metadata": {
        "jupyter": {
          "outputs_hidden": false,
          "source_hidden": false
        },
        "noteable": {
          "cell_type": "code",
          "output_collection_id": "76516842-dadf-41bc-89ff-1339a1439176"
        },
        "ExecuteTime": {
          "end_time": "2023-06-05T10:16:52.539881+00:00",
          "start_time": "2023-06-05T10:16:52.381829+00:00"
        }
      },
      "execution_count": null,
      "source": "X, _ = datasets.make_regression(n_samples=500, n_features=2, noise=0.1, random_state=41)\n",
      "outputs": []
    },
    {
      "id": "41ab8fa3-b078-4288-9621-906a21a43ed3",
      "cell_type": "code",
      "metadata": {
        "jupyter": {
          "outputs_hidden": false,
          "source_hidden": false
        },
        "noteable": {
          "cell_type": "code",
          "output_collection_id": "1ce7b3f4-3e2c-4064-8122-9f471d7b365f"
        },
        "ExecuteTime": {
          "end_time": "2023-06-05T10:16:55.378852+00:00",
          "start_time": "2023-06-05T10:16:55.219384+00:00"
        }
      },
      "execution_count": null,
      "source": "np.corrcoef(X.T)",
      "outputs": []
    },
    {
      "id": "caddc4e6-fc9c-40c3-802d-b22a447dc0f2",
      "cell_type": "code",
      "metadata": {
        "jupyter": {
          "outputs_hidden": false,
          "source_hidden": false
        },
        "noteable": {
          "cell_type": "code",
          "output_collection_id": "d2c1600f-302a-4019-ae6c-d0c8657467cb"
        },
        "ExecuteTime": {
          "end_time": "2023-06-05T10:17:35.155860+00:00",
          "start_time": "2023-06-05T10:17:34.999899+00:00"
        }
      },
      "execution_count": null,
      "source": "X, _ = datasets.make_regression(n_samples=500, n_features=2, noise=0.1, random_sta)\ncoef = 0.7\nX[:, 1] = (coef * X[:, 0]) + (np.sqrt(1 - correlation_coefficient) * X[:, 1])",
      "outputs": []
    },
    {
      "id": "56902bfd-e055-4bb4-b71f-48ed950c1eb2",
      "cell_type": "code",
      "metadata": {
        "jupyter": {
          "outputs_hidden": false,
          "source_hidden": false
        },
        "noteable": {
          "cell_type": "code",
          "output_collection_id": "17808f67-593e-4679-92e3-dd4dbb1fd22f"
        },
        "ExecuteTime": {
          "end_time": "2023-06-05T10:17:37.370438+00:00",
          "start_time": "2023-06-05T10:17:37.210623+00:00"
        }
      },
      "execution_count": null,
      "source": "np.corrcoef(X.T)",
      "outputs": []
    },
    {
      "id": "b49f7f7a-d77a-4fc9-88eb-dd4469658b2e",
      "cell_type": "code",
      "metadata": {
        "jupyter": {
          "outputs_hidden": false,
          "source_hidden": false
        },
        "noteable": {
          "cell_type": "code",
          "output_collection_id": "52af1ebb-6d40-4f1e-b243-c0db39baae00"
        },
        "ExecuteTime": {
          "end_time": "2023-06-05T10:17:44.953649+00:00",
          "start_time": "2023-06-05T10:17:44.736197+00:00"
        }
      },
      "execution_count": null,
      "source": "import plotly.express as px\npx.scatter(x=X[:,0], y=X[:, 1])",
      "outputs": []
    }
  ],
  "metadata": {
    "language_info": {
      "name": "python"
    },
    "orig_nbformat": 4,
    "noteable": {
      "last_transaction_id": "a9f5a704-467e-426f-9418-34eb42b178ba"
    },
    "display_mode": "fullwidth",
    "selected_hardware_size": "small"
  },
  "nbformat": 4,
  "nbformat_minor": 5
}