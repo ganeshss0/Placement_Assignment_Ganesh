{
  "cells": [
    {
      "attachments": {},
      "cell_type": "markdown",
      "id": "1706b559-a856-4bd4-9373-d7a74d0084c2",
      "metadata": {
        "noteable": {
          "cell_type": "markdown"
        }
      },
      "source": [
        "# Statistics Answer 2"
      ]
    },
    {
      "attachments": {},
      "cell_type": "markdown",
      "id": "1ab4d694",
      "metadata": {},
      "source": [
        "1. __Percentage of individuals in the dataset have heights between 160 cm and 180 cm.__\n",
        "    There are two methods for this:\n",
        "    1. From Emperical formula if we 68% of data lie within $1^{st}$ standard deviation, 95% percentage of data lie within $2^{nd}$ standard deviation and 98% of data lie with $3^{rd}$ standard deviation, So 160 cm and 180 cm are one standard deviation away from mean 170 cm given standard deviation is 10 cm then nearly __68%__ of individuals having heights between 160 cm and 180 cm.\n",
        "    2. Using z-score method:<br />\n",
        "        * z-score for 160 cm:<br />\n",
        "            $z_{1} = \\frac{160 - 170}{10}$<br />\n",
        "            $z_{1} = -1$<br />\n",
        "            Searching for $z_{1}=-1$ in Z-Table we get $0.15866$<br />\n",
        "        * z-score for 180 cm:<br />\n",
        "            $z_{2} = \\frac{160 - 170}{10}$<br />\n",
        "            $z_{2} = 1$<br />\n",
        "            Seaching for $z_{2}=1$ in Z-Table we get $0.84134$<br />\n",
        "        On subtracting area below $z_{1}$ from $z_{2}$ we get $0.84134-0.15866=0.68269$<br />\n",
        "        So __68.269%__ of individuals having heights between 160 cm and 180 cm.\n"
      ]
    },
    {
      "attachments": {},
      "cell_type": "markdown",
      "id": "3240b0b1",
      "metadata": {},
      "source": [
        "2. __Probability of height greater than 175 cm of 100 individuals selected randomly.__<br />\n",
        "    Calculation Z-Score $(Z) = \\frac{175 - 170}{10}=0.5$<br />\n",
        "    Checking Z-Score value in Z-Table we get $P(Z_{0.5})=0.69146$<br />\n",
        "    So the probability of average height greater than 175 cm is:-<br />\n",
        "    $\\Rightarrow1-P(Z_{0.5})=1-0.69149=0.30584$<br />\n",
        "    There is __30.584%__ chance that the average height is more than 175 cm."
      ]
    },
    {
      "attachments": {},
      "cell_type": "markdown",
      "id": "222e25f4",
      "metadata": {},
      "source": [
        "3. __Z-Score corresponding to height of 185 cm.__<br />\n",
        "    As we know Z-Score's formula<br />\n",
        "    $z = \\frac{x_{i} - \\mu}{\\sigma}$<br />\n",
        "    putting values in above formula we get\n",
        "    $z = \\frac{185 - 170}{10} = 1.5$<br />\n",
        "    On searching $z=1.5$ in Z-Table we get $0.93319$"
      ]
    },
    {
      "attachments": {},
      "cell_type": "markdown",
      "id": "36bd540f",
      "metadata": {},
      "source": [
        "4. __Approximate height below which 5% of dataset heights lie.__<br />\n",
        "    As we know $5\\%=0.05$ on seaching values approximately near to 5% in the negitive Z-Table(as heights lie below a certain value) we get $z=-1.64$<br />\n",
        "    Using the Z-Score formula<br />\n",
        "    $z = \\frac{x_{i} - \\mu}{\\sigma}$<br />\n",
        "    $-1.64 = \\frac{x_{i} - 170}{10}$<br />\n",
        "    $x_{i} = 153.6 cm$<br />\n",
        "    So below __153.6 cm__ 5% of heights of data lie."
      ]
    },
    {
      "attachments": {},
      "cell_type": "markdown",
      "id": "78e7853d",
      "metadata": {},
      "source": [
        "5. __Coefficient of Variation__<br />\n",
        "    $C_{v} = \\frac{\\sigma}{\\mu}=\\frac{10}{170}$<br />\n",
        "    $C_{v} = 0.05882$"
      ]
    },
    {
      "attachments": {},
      "cell_type": "markdown",
      "id": "afd9ec3e",
      "metadata": {},
      "source": [
        "6. __Skewness of dataset__<br />\n",
        "    Pearson Skewness Coefficient $= 3(\\frac{\\mu - median}{\\sigma})$<br />\n",
        "    Since the data is normally distributed them median and mean are equal.<br />\n",
        "    $\\Rightarrow 3(\\frac{170 - 170}{10})=0$<br />\n",
        "    So skewness of dataset is 0."
      ]
    }
  ],
  "metadata": {
    "kernelspec": {
      "display_name": "Python 3",
      "language": "python",
      "name": "python3"
    },
    "language_info": {
      "codemirror_mode": {
        "name": "ipython",
        "version": 3
      },
      "file_extension": ".py",
      "mimetype": "text/x-python",
      "name": "python",
      "nbconvert_exporter": "python",
      "pygments_lexer": "ipython3",
      "version": "3.10.2"
    },
    "noteable": {
      "last_transaction_id": "4d5ba8aa-95af-4709-8687-a53e167380f2"
    },
    "selected_hardware_size": "small",
    "vscode": {
      "interpreter": {
        "hash": "2469a70536e4d2335a2ea8907942d0699c37342a371ac185bdb5b0aa6f073890"
      }
    }
  },
  "nbformat": 4,
  "nbformat_minor": 5
}
