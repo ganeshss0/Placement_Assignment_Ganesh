{
  "cells": [
    {
      "cell_type": "markdown",
      "id": "1706b559-a856-4bd4-9373-d7a74d0084c2",
      "metadata": {
        "noteable": {
          "cell_type": "markdown"
        }
      },
      "source": [
        "# Statistics Answer 2"
      ]
    },
    {
      "attachments": {},
      "cell_type": "markdown",
      "id": "1ab4d694",
      "metadata": {},
      "source": [
        "1. __Percentage of individuals in the dataset have heights between 160 cm and 180 cm.__\n",
        "    There are two methods for this:\n",
        "    1. From Emperical formula if we 68% of data lie within $1^{st}$ standard deviation, 95% percentage of data lie within $2^{nd}$ standard deviation and 98% of data lie with $3^{rd}$ standard deviation, So 160 cm and 180 cm are one standard deviation away from mean 170 cm given standard deviation is 10 cm then nearly __68%__ of individuals having heights between 160 cm and 180 cm.\n",
        "    2. Using z-score method:<br />\n",
        "        * z-score for 160 cm:<br />\n",
        "            $z_{1} = \\frac{160 - 170}{10}$<br />\n",
        "            $z_{1} = -1$<br />\n",
        "            Searching for $z_{1}=-1$ in Z-Table we get $0.15866$<br />\n",
        "        * z-score for 180 cm:<br />\n",
        "            $z_{2} = \\frac{160 - 170}{10}$<br />\n",
        "            $z_{2} = 1$<br />\n",
        "            Seaching for $z_{2}=1$ in Z-Table we get $0.84134$<br />\n",
        "        On subtracting area below $z_{1}$ from $z_{2}$ we get $0.84134-0.15866=0.68269$<br />\n",
        "        So __68.269%__ of individuals having heights between 160 cm and 180 cm.\n"
      ]
    },
    {
      "attachments": {},
      "cell_type": "markdown",
      "id": "38f08c85",
      "metadata": {},
      "source": [
        "Consider a dataset containing the heights (in centimeters) of 1000 individuals. The\n",
        "mean height is 170 cm with a standard deviation of 10 cm. The dataset is approximately\n",
        "normally distributed, and its skewness is approximately zero. Based on this information,\n",
        "answer the following questions:\n",
        "a. What percentage of individuals in the dataset have heights between 160 cm\n",
        "and 180 cm?\n",
        "b. If we randomly select 100 individuals from the dataset, what is the probability\n",
        "that their average height is greater than 175 cm?\n",
        "c. Assuming the dataset follows a normal distribution, what is the z-score\n",
        "corresponding to a height of 185 cm?\n",
        "d. We know that 5% of the dataset has heights below a certain value. What is\n",
        "the approximate height corresponding to this threshold?\n",
        "e. Calculate the coefficient of variation (CV) for the dataset.\n",
        "f. Calculate the skewness of the dataset and interpret the result"
      ]
    },
    {
      "attachments": {},
      "cell_type": "markdown",
      "id": "3240b0b1",
      "metadata": {},
      "source": [
        "2. __Probability of height greater than 175 cm of 100 individuals selected randomly.__"
      ]
    },
    {
      "attachments": {},
      "cell_type": "markdown",
      "id": "222e25f4",
      "metadata": {},
      "source": [
        "3. __Z-Score corresponding to height of 185 cm.__<br />\n",
        "    As we know Z-Score's formula<br />\n",
        "    $z = \\frac{x_{i} - \\mu}{\\sigma}$<br />\n",
        "    putting values in above formula we get\n",
        "    $z = \\frac{185 - 170}{10} = 1.5$<br />\n",
        "    On searching $z=1.5$ in Z-Table we get $0.93319$"
      ]
    },
    {
      "attachments": {},
      "cell_type": "markdown",
      "id": "36bd540f",
      "metadata": {},
      "source": [
        "4. __Approximate height below which 5% of dataset heights lie.__<br />\n",
        "    As we know $5\\%=0.05$ on seaching values approximately near to 5% in the negitive Z-Table(as heights lie below a certain value) we get $z=-1.64$<br />\n",
        "    Using the Z-Score formula<br />\n",
        "    $z = \\frac{x_{i} - \\mu}{\\sigma}$<br />\n",
        "    $-1.64 = \\frac{x_{i} - 170}{10}$<br />\n",
        "    $x_{i} = 153.6 cm$<br />\n",
        "    So below __153.6 cm__ 5% of heights of data lie."
      ]
    },
    {
      "attachments": {},
      "cell_type": "markdown",
      "id": "78e7853d",
      "metadata": {},
      "source": [
        "5. __Coefficient of Variation__<br />\n",
        "    $C_{v} = \\frac{\\sigma}{\\mu}=\\frac{10}{170}$<br />\n",
        "    $C_{v} = 0.05882$"
      ]
    },
    {
      "cell_type": "code",
      "execution_count": 2,
      "id": "f6d7cf01",
      "metadata": {},
      "outputs": [
        {
          "data": {
            "text/plain": [
              "1.5"
            ]
          },
          "execution_count": 2,
          "metadata": {},
          "output_type": "execute_result"
        }
      ],
      "source": [
        "mean = 170\n",
        "std = 10\n",
        "z_score = (185 - mean) / std\n",
        "z_score"
      ]
    },
    {
      "cell_type": "code",
      "execution_count": 7,
      "id": "77fbfc97",
      "metadata": {},
      "outputs": [
        {
          "data": {
            "text/plain": [
              "0.058823529411764705"
            ]
          },
          "execution_count": 7,
          "metadata": {},
          "output_type": "execute_result"
        }
      ],
      "source": [
        "10/170"
      ]
    },
    {
      "cell_type": "code",
      "execution_count": 7,
      "id": "c734bb69",
      "metadata": {},
      "outputs": [
        {
          "data": {
            "text/plain": [
              "<Axes: ylabel='Count'>"
            ]
          },
          "execution_count": 7,
          "metadata": {},
          "output_type": "execute_result"
        },
        {
          "data": {
            "image/png": "[encoded data removed]",
            "text/plain": [
              "<Figure size 640x480 with 1 Axes>"
            ]
          },
          "metadata": {},
          "output_type": "display_data"
        }
      ],
      "source": [
        "sns.histplot(x, kde=True)"
      ]
    },
    {
      "cell_type": "code",
      "execution_count": null,
      "id": "1e1aa2db",
      "metadata": {},
      "outputs": [],
      "source": []
    }
  ],
  "metadata": {
    "kernelspec": {
      "display_name": "Python 3",
      "language": "python",
      "name": "python3"
    },
    "language_info": {
      "codemirror_mode": {
        "name": "ipython",
        "version": 3
      },
      "file_extension": ".py",
      "mimetype": "text/x-python",
      "name": "python",
      "nbconvert_exporter": "python",
      "pygments_lexer": "ipython3",
      "version": "3.10.4"
    },
    "noteable": {
      "last_transaction_id": "4d5ba8aa-95af-4709-8687-a53e167380f2"
    },
    "selected_hardware_size": "small"
  },
  "nbformat": 4,
  "nbformat_minor": 5
}
