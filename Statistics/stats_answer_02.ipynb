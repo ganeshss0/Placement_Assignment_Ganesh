{
  "nbformat": 4,
  "nbformat_minor": 5,
  "metadata": {
    "selected_hardware_size": "small",
    "noteable": {
      "last_transaction_id": "1d38958f-48e7-424a-aa41-c08831cfd225"
    }
  },
  "cells": [
    {
      "id": "af9750f8",
      "cell_type": "code",
      "metadata": {},
      "execution_count": null,
      "source": "",
      "outputs": []
    }
  ]
}