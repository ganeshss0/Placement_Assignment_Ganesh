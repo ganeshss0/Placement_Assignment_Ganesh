{
  "nbformat": 4,
  "nbformat_minor": 5,
  "metadata": {
    "selected_hardware_size": "small",
    "noteable": {
      "last_transaction_id": "4d5ba8aa-95af-4709-8687-a53e167380f2"
    }
  },
  "cells": [
    {
      "id": "1706b559-a856-4bd4-9373-d7a74d0084c2",
      "cell_type": "markdown",
      "source": "# Statistics Answer 2",
      "metadata": {
        "noteable": {
          "cell_type": "markdown"
        }
      }
    },
    {
      "id": "af9750f8",
      "cell_type": "code",
      "metadata": {},
      "execution_count": null,
      "source": "import numpy as np",
      "outputs": []
    }
  ]
}