{
 "cells": [
  {
   "attachments": {},
   "cell_type": "markdown",
   "metadata": {},
   "source": [
    "# Statistics Answer 3"
   ]
  },
  {
   "cell_type": "code",
   "execution_count": 15,
   "metadata": {},
   "outputs": [
    {
     "data": {
      "text/html": [
       "<div>\n",
       "<style scoped>\n",
       "    .dataframe tbody tr th:only-of-type {\n",
       "        vertical-align: middle;\n",
       "    }\n",
       "\n",
       "    .dataframe tbody tr th {\n",
       "        vertical-align: top;\n",
       "    }\n",
       "\n",
       "    .dataframe thead th {\n",
       "        text-align: right;\n",
       "    }\n",
       "</style>\n",
       "<table border=\"1\" class=\"dataframe\">\n",
       "  <thead>\n",
       "    <tr style=\"text-align: right;\">\n",
       "      <th></th>\n",
       "      <th>Blood Pressure Before (mmHg)</th>\n",
       "      <th>Blood Pressure After (mmHg)</th>\n",
       "    </tr>\n",
       "    <tr>\n",
       "      <th>Patient ID</th>\n",
       "      <th></th>\n",
       "      <th></th>\n",
       "    </tr>\n",
       "  </thead>\n",
       "  <tbody>\n",
       "    <tr>\n",
       "      <th>1</th>\n",
       "      <td>130</td>\n",
       "      <td>120</td>\n",
       "    </tr>\n",
       "    <tr>\n",
       "      <th>2</th>\n",
       "      <td>142</td>\n",
       "      <td>135</td>\n",
       "    </tr>\n",
       "    <tr>\n",
       "      <th>3</th>\n",
       "      <td>120</td>\n",
       "      <td>118</td>\n",
       "    </tr>\n",
       "    <tr>\n",
       "      <th>4</th>\n",
       "      <td>135</td>\n",
       "      <td>127</td>\n",
       "    </tr>\n",
       "    <tr>\n",
       "      <th>5</th>\n",
       "      <td>148</td>\n",
       "      <td>140</td>\n",
       "    </tr>\n",
       "  </tbody>\n",
       "</table>\n",
       "</div>"
      ],
      "text/plain": [
       "            Blood Pressure Before (mmHg)  Blood Pressure After (mmHg)\n",
       "Patient ID                                                           \n",
       "1                                    130                          120\n",
       "2                                    142                          135\n",
       "3                                    120                          118\n",
       "4                                    135                          127\n",
       "5                                    148                          140"
      ]
     },
     "execution_count": 15,
     "metadata": {},
     "output_type": "execute_result"
    }
   ],
   "source": [
    "import pandas as pd\n",
    "data = pd.read_csv('https://drive.google.com/uc?export=download&id=1mCjtYHiX--mMUjicuaP2gH3k-SnFxt8Y', index_col=0, sep=', ', engine='python')\n",
    "data.head()"
   ]
  },
  {
   "attachments": {},
   "cell_type": "markdown",
   "metadata": {},
   "source": [
    "1. Measure the dispersion in both and interpret the results.\n",
    "2. Calculate mean and 5% confidence interval and plot it in a graph\n",
    "3. Calculate the Mean absolute deviation and Standard deviation and interpret\n",
    "the results.\n",
    "4. Calculate the correlation coefficient and check the significance of it at 1% level\n",
    "of significance."
   ]
  },
  {
   "cell_type": "code",
   "execution_count": 7,
   "metadata": {},
   "outputs": [],
   "source": [
    "import numpy as np\n",
    "import statistics as stats\n",
    "import scipy.stats as stat\n",
    "import matplotlib.pyplot as plt\n",
    "import seaborn as sns"
   ]
  },
  {
   "cell_type": "code",
   "execution_count": 21,
   "metadata": {},
   "outputs": [
    {
     "data": {
      "text/plain": [
       "12.0"
      ]
     },
     "execution_count": 21,
     "metadata": {},
     "output_type": "execute_result"
    }
   ],
   "source": [
    "import matplotlib.pyplot as plt\n",
    "import seaborn as sns\n",
    "\n",
    "stat.iqr(data['Blood Pressure After (mmHg)'])"
   ]
  },
  {
   "cell_type": "code",
   "execution_count": 22,
   "metadata": {},
   "outputs": [
    {
     "name": "stdout",
     "output_type": "stream",
     "text": [
      "\u001b[0;31mSignature:\u001b[0m\n",
      "\u001b[0mstat\u001b[0m\u001b[0;34m.\u001b[0m\u001b[0miqr\u001b[0m\u001b[0;34m(\u001b[0m\u001b[0;34m\u001b[0m\n",
      "\u001b[0;34m\u001b[0m    \u001b[0mx\u001b[0m\u001b[0;34m,\u001b[0m\u001b[0;34m\u001b[0m\n",
      "\u001b[0;34m\u001b[0m    \u001b[0maxis\u001b[0m\u001b[0;34m=\u001b[0m\u001b[0;32mNone\u001b[0m\u001b[0;34m,\u001b[0m\u001b[0;34m\u001b[0m\n",
      "\u001b[0;34m\u001b[0m    \u001b[0mrng\u001b[0m\u001b[0;34m=\u001b[0m\u001b[0;34m(\u001b[0m\u001b[0;36m25\u001b[0m\u001b[0;34m,\u001b[0m \u001b[0;36m75\u001b[0m\u001b[0;34m)\u001b[0m\u001b[0;34m,\u001b[0m\u001b[0;34m\u001b[0m\n",
      "\u001b[0;34m\u001b[0m    \u001b[0mscale\u001b[0m\u001b[0;34m=\u001b[0m\u001b[0;36m1.0\u001b[0m\u001b[0;34m,\u001b[0m\u001b[0;34m\u001b[0m\n",
      "\u001b[0;34m\u001b[0m    \u001b[0mnan_policy\u001b[0m\u001b[0;34m=\u001b[0m\u001b[0;34m'propagate'\u001b[0m\u001b[0;34m,\u001b[0m\u001b[0;34m\u001b[0m\n",
      "\u001b[0;34m\u001b[0m    \u001b[0minterpolation\u001b[0m\u001b[0;34m=\u001b[0m\u001b[0;34m'linear'\u001b[0m\u001b[0;34m,\u001b[0m\u001b[0;34m\u001b[0m\n",
      "\u001b[0;34m\u001b[0m    \u001b[0mkeepdims\u001b[0m\u001b[0;34m=\u001b[0m\u001b[0;32mFalse\u001b[0m\u001b[0;34m,\u001b[0m\u001b[0;34m\u001b[0m\n",
      "\u001b[0;34m\u001b[0m\u001b[0;34m)\u001b[0m\u001b[0;34m\u001b[0m\u001b[0;34m\u001b[0m\u001b[0m\n",
      "\u001b[0;31mDocstring:\u001b[0m\n",
      "Compute the interquartile range of the data along the specified axis.\n",
      "\n",
      "The interquartile range (IQR) is the difference between the 75th and\n",
      "25th percentile of the data. It is a measure of the dispersion\n",
      "similar to standard deviation or variance, but is much more robust\n",
      "against outliers [2]_.\n",
      "\n",
      "The ``rng`` parameter allows this function to compute other\n",
      "percentile ranges than the actual IQR. For example, setting\n",
      "``rng=(0, 100)`` is equivalent to `numpy.ptp`.\n",
      "\n",
      "The IQR of an empty array is `np.nan`.\n",
      "\n",
      ".. versionadded:: 0.18.0\n",
      "\n",
      "Parameters\n",
      "----------\n",
      "x : array_like\n",
      "    Input array or object that can be converted to an array.\n",
      "axis : int or sequence of int, optional\n",
      "    Axis along which the range is computed. The default is to\n",
      "    compute the IQR for the entire array.\n",
      "rng : Two-element sequence containing floats in range of [0,100] optional\n",
      "    Percentiles over which to compute the range. Each must be\n",
      "    between 0 and 100, inclusive. The default is the true IQR:\n",
      "    ``(25, 75)``. The order of the elements is not important.\n",
      "scale : scalar or str, optional\n",
      "    The numerical value of scale will be divided out of the final\n",
      "    result. The following string values are recognized:\n",
      "\n",
      "      * 'raw' : No scaling, just return the raw IQR.\n",
      "        **Deprecated!**  Use ``scale=1`` instead.\n",
      "      * 'normal' : Scale by\n",
      "        :math:`2 \\sqrt{2} erf^{-1}(\\frac{1}{2}) \\approx 1.349`.\n",
      "\n",
      "    The default is 1.0. The use of ``scale='raw'`` is deprecated infavor\n",
      "    of ``scale=1`` and will raise an error in SciPy 1.12.0.\n",
      "    Array-like `scale` is also allowed, as long\n",
      "    as it broadcasts correctly to the output such that\n",
      "    ``out / scale`` is a valid operation. The output dimensions\n",
      "    depend on the input array, `x`, the `axis` argument, and the\n",
      "    `keepdims` flag.\n",
      "nan_policy : {'propagate', 'raise', 'omit'}, optional\n",
      "    Defines how to handle when input contains nan.\n",
      "    The following options are available (default is 'propagate'):\n",
      "\n",
      "      * 'propagate': returns nan\n",
      "      * 'raise': throws an error\n",
      "      * 'omit': performs the calculations ignoring nan values\n",
      "interpolation : str, optional\n",
      "\n",
      "    Specifies the interpolation method to use when the percentile\n",
      "    boundaries lie between two data points ``i`` and ``j``.\n",
      "    The following options are available (default is 'linear'):\n",
      "\n",
      "      * 'linear': ``i + (j - i)*fraction``, where ``fraction`` is the\n",
      "        fractional part of the index surrounded by ``i`` and ``j``.\n",
      "      * 'lower': ``i``.\n",
      "      * 'higher': ``j``.\n",
      "      * 'nearest': ``i`` or ``j`` whichever is nearest.\n",
      "      * 'midpoint': ``(i + j)/2``.\n",
      "\n",
      "    For NumPy >= 1.22.0, the additional options provided by the ``method``\n",
      "    keyword of `numpy.percentile` are also valid.\n",
      "\n",
      "keepdims : bool, optional\n",
      "    If this is set to True, the reduced axes are left in the\n",
      "    result as dimensions with size one. With this option, the result\n",
      "    will broadcast correctly against the original array `x`.\n",
      "\n",
      "Returns\n",
      "-------\n",
      "iqr : scalar or ndarray\n",
      "    If ``axis=None``, a scalar is returned. If the input contains\n",
      "    integers or floats of smaller precision than ``np.float64``, then the\n",
      "    output data-type is ``np.float64``. Otherwise, the output data-type is\n",
      "    the same as that of the input.\n",
      "\n",
      "See Also\n",
      "--------\n",
      "numpy.std, numpy.var\n",
      "\n",
      "References\n",
      "----------\n",
      ".. [1] \"Interquartile range\" https://en.wikipedia.org/wiki/Interquartile_range\n",
      ".. [2] \"Robust measures of scale\" https://en.wikipedia.org/wiki/Robust_measures_of_scale\n",
      ".. [3] \"Quantile\" https://en.wikipedia.org/wiki/Quantile\n",
      "\n",
      "Examples\n",
      "--------\n",
      ">>> import numpy as np\n",
      ">>> from scipy.stats import iqr\n",
      ">>> x = np.array([[10, 7, 4], [3, 2, 1]])\n",
      ">>> x\n",
      "array([[10,  7,  4],\n",
      "       [ 3,  2,  1]])\n",
      ">>> iqr(x)\n",
      "4.0\n",
      ">>> iqr(x, axis=0)\n",
      "array([ 3.5,  2.5,  1.5])\n",
      ">>> iqr(x, axis=1)\n",
      "array([ 3.,  1.])\n",
      ">>> iqr(x, axis=1, keepdims=True)\n",
      "array([[ 3.],\n",
      "       [ 1.]])\n",
      "\u001b[0;31mFile:\u001b[0m      ~/.local/lib/python3.10/site-packages/scipy/stats/_stats_py.py\n",
      "\u001b[0;31mType:\u001b[0m      function"
     ]
    }
   ],
   "source": [
    "stat.iqr?"
   ]
  },
  {
   "cell_type": "code",
   "execution_count": 16,
   "metadata": {},
   "outputs": [
    {
     "data": {
      "text/plain": [
       "6.0"
      ]
     },
     "execution_count": 16,
     "metadata": {},
     "output_type": "execute_result"
    }
   ],
   "source": [
    "stat.median_abs_deviation(data.iloc[:,0])"
   ]
  },
  {
   "cell_type": "code",
   "execution_count": 19,
   "metadata": {},
   "outputs": [
    {
     "data": {
      "text/plain": [
       "<Axes: xlabel='Blood Pressure Before (mmHg)', ylabel='Count'>"
      ]
     },
     "execution_count": 19,
     "metadata": {},
     "output_type": "execute_result"
    },
    {
     "data": {
      "image/png": "[encoded data removed]",
      "text/plain": [
       "<Figure size 640x480 with 1 Axes>"
      ]
     },
     "metadata": {},
     "output_type": "display_data"
    }
   ],
   "source": [
    "sns.histplot(data['Blood Pressure Before (mmHg)'], kde=True)"
   ]
  },
  {
   "cell_type": "code",
   "execution_count": 20,
   "metadata": {},
   "outputs": [
    {
     "data": {
      "text/plain": [
       "<Axes: xlabel='Blood Pressure After (mmHg)', ylabel='Count'>"
      ]
     },
     "execution_count": 20,
     "metadata": {},
     "output_type": "execute_result"
    },
    {
     "data": {
      "image/png": "[encoded data removed]",
      "text/plain": [
       "<Figure size 640x480 with 1 Axes>"
      ]
     },
     "metadata": {},
     "output_type": "display_data"
    }
   ],
   "source": [
    "sns.histplot(data['Blood Pressure After (mmHg)'], kde=True)"
   ]
  },
  {
   "cell_type": "code",
   "execution_count": null,
   "metadata": {},
   "outputs": [],
   "source": []
  }
 ],
 "metadata": {
  "kernelspec": {
   "display_name": "Python 3",
   "language": "python",
   "name": "python3"
  },
  "language_info": {
   "codemirror_mode": {
    "name": "ipython",
    "version": 3
   },
   "file_extension": ".py",
   "mimetype": "text/x-python",
   "name": "python",
   "nbconvert_exporter": "python",
   "pygments_lexer": "ipython3",
   "version": "3.10.4"
  },
  "orig_nbformat": 4
 },
 "nbformat": 4,
 "nbformat_minor": 2
}
