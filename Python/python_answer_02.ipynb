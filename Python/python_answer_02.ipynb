{
 "cells": [
  {
   "attachments": {},
   "cell_type": "markdown",
   "metadata": {},
   "source": [
    "# Python Answer 2"
   ]
  },
  {
   "attachments": {},
   "cell_type": "markdown",
   "metadata": {},
   "source": [
    "Program that takes a string and returns `'YES'` if the given string is valid else `'NO'` if string is valid, A valid string have all the character same number of times or can be converted into valid after removing only one character."
   ]
  },
  {
   "cell_type": "code",
   "execution_count": 1,
   "metadata": {},
   "outputs": [],
   "source": [
    "import re\n",
    "\n",
    "def valid_string(string: str) -> str:\n",
    "    # default answer is NO\n",
    "    result = 'NO'\n",
    "\n",
    "    # unique character in string\n",
    "    unique_char = set(re.findall(r'[a-z]', string, re.I))\n",
    "\n",
    "    # store occurance of character\n",
    "    # {\n",
    "    #     length_of_characters : occurance_of_character\n",
    "    # }\n",
    "    count = {}\n",
    "\n",
    "    # Counting the occurance of each char in string\n",
    "    for char in unique_char:\n",
    "        occur = len(re.findall(char, string))\n",
    "        count[occur] = count.get(occur, 0) + 1\n",
    "\n",
    "    # if all character in string occur only once\n",
    "    if (n:=len(count.values())) == 1:\n",
    "        result = 'YES'\n",
    "\n",
    "    # if occurance of one character is different from others characters\n",
    "    elif n == 2 and min(count.values()) == 1:\n",
    "        \n",
    "        # sorting count based on the occurance of character\n",
    "        small, big = sorted(count.items(), key = (lambda x: x[1]))\n",
    "\n",
    "        # difference between character of different length and rest of charters\n",
    "        if small[0] - big[0] == 1:\n",
    "            result = 'YES'\n",
    "   \n",
    "    return result"
   ]
  },
  {
   "attachments": {},
   "cell_type": "markdown",
   "metadata": {},
   "source": [
    "## Test Cases"
   ]
  },
  {
   "cell_type": "code",
   "execution_count": 2,
   "metadata": {},
   "outputs": [
    {
     "name": "stdout",
     "output_type": "stream",
     "text": [
      "INPUT: AAA aa bb cc\n",
      "OUTPUT: YES \n",
      "\n",
      "INPUT: aa bbb cc dddd\n",
      "OUTPUT: NO \n",
      "\n",
      "INPUT: aabbc\n",
      "OUTPUT: NO \n",
      "\n",
      "INPUT: abc\n",
      "OUTPUT: YES \n",
      "\n",
      "INPUT: abcc\n",
      "OUTPUT: YES \n",
      "\n",
      "INPUT: abccc\n",
      "OUTPUT: NO \n",
      "\n"
     ]
    }
   ],
   "source": [
    "test_cases = [\n",
    "    'AAA aa bb cc',\n",
    "    'aa bbb cc dddd',\n",
    "    'aabbc',\n",
    "    'abc',\n",
    "    'abcc',\n",
    "    'abccc',\n",
    "]\n",
    "\n",
    "for test in test_cases:\n",
    "    print('INPUT:', test)\n",
    "    print('OUTPUT:', valid_string(test), '\\n')"
   ]
  },
  {
   "attachments": {},
   "cell_type": "markdown",
   "metadata": {},
   "source": [
    "## Test Case Explanation"
   ]
  },
  {
   "attachments": {},
   "cell_type": "markdown",
   "metadata": {},
   "source": [
    "1. __Case 1__ : Here occurance of `'aa', 'bb', 'cc'` words is 2 and `'AAA'` word is 1, so we can remove one `'A'` from `'AAA'` and all the occurance of character will be same as `'AA aa bb cc'`.\n",
    "2. __Case 2__ : Here occurance of `'aa', 'cc'` words is 2, `'bbb'` is 3 and `'dddd'` is 4, so we can remove one character to make all occurance of character same.\n",
    "3. __Case 3__ : Here occurance of `'aa', 'bb'` words is 2 and `'c'` is 1, We can only remove character from strings can't add to it, so this string is invalid.\n",
    "4. __Case 4__ : Here occurance of all character is same, so this is a valid string.\n",
    "5. __Case 5__ : Here we can remove one `'c'` to make it `'abc'`, so this string is valid.\n",
    "6. __Case 6__ : Here after remove one `'c'` string becomes `'abcc'` which is a invalid string."
   ]
  }
 ],
 "metadata": {
  "kernelspec": {
   "display_name": "Python 3",
   "language": "python",
   "name": "python3"
  },
  "language_info": {
   "codemirror_mode": {
    "name": "ipython",
    "version": 3
   },
   "file_extension": ".py",
   "mimetype": "text/x-python",
   "name": "python",
   "nbconvert_exporter": "python",
   "pygments_lexer": "ipython3",
   "version": "3.10.2"
  },
  "orig_nbformat": 4,
  "vscode": {
   "interpreter": {
    "hash": "2469a70536e4d2335a2ea8907942d0699c37342a371ac185bdb5b0aa6f073890"
   }
  }
 },
 "nbformat": 4,
 "nbformat_minor": 2
}
