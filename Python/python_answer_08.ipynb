{
  "cells": [
    {
      "cell_type": "markdown",
      "metadata": {},
      "source": [
        "# Python Answer 8"
      ],
      "id": "131c5dc9"
    },
    {
      "cell_type": "code",
      "execution_count": 1,
      "metadata": {},
      "outputs": [
        {
          "data": {
            "text/html": [
              "<div>\n",
              "<style scoped>\n",
              "    .dataframe tbody tr th:only-of-type {\n",
              "        vertical-align: middle;\n",
              "    }\n",
              "\n",
              "    .dataframe tbody tr th {\n",
              "        vertical-align: top;\n",
              "    }\n",
              "\n",
              "    .dataframe thead th {\n",
              "        text-align: right;\n",
              "    }\n",
              "</style>\n",
              "<table border=\"1\" class=\"dataframe\">\n",
              "  <thead>\n",
              "    <tr style=\"text-align: right;\">\n",
              "      <th></th>\n",
              "      <th>id</th>\n",
              "      <th>url</th>\n",
              "      <th>name</th>\n",
              "      <th>season</th>\n",
              "      <th>number</th>\n",
              "      <th>type</th>\n",
              "      <th>airdate</th>\n",
              "      <th>airtime</th>\n",
              "      <th>runtime</th>\n",
              "      <th>summary</th>\n",
              "      <th>average_rating</th>\n",
              "      <th>medium_image</th>\n",
              "      <th>original_image</th>\n",
              "    </tr>\n",
              "  </thead>\n",
              "  <tbody>\n",
              "    <tr>\n",
              "      <th>0</th>\n",
              "      <td>869671</td>\n",
              "      <td>https://www.tvmaze.com/episodes/869671/westwor...</td>\n",
              "      <td>The Original</td>\n",
              "      <td>1</td>\n",
              "      <td>1</td>\n",
              "      <td>regular</td>\n",
              "      <td>2016-10-02</td>\n",
              "      <td>09:00 PM</td>\n",
              "      <td>68</td>\n",
              "      <td>A woman named Dolores is a free spirit in the ...</td>\n",
              "      <td>8.0</td>\n",
              "      <td>https://static.tvmaze.com/uploads/images/mediu...</td>\n",
              "      <td>https://static.tvmaze.com/uploads/images/origi...</td>\n",
              "    </tr>\n",
              "    <tr>\n",
              "      <th>1</th>\n",
              "      <td>911201</td>\n",
              "      <td>https://www.tvmaze.com/episodes/911201/westwor...</td>\n",
              "      <td>Chestnut</td>\n",
              "      <td>1</td>\n",
              "      <td>2</td>\n",
              "      <td>regular</td>\n",
              "      <td>2016-10-09</td>\n",
              "      <td>09:00 PM</td>\n",
              "      <td>60</td>\n",
              "      <td>Bernard suspects that someone is sabotaging th...</td>\n",
              "      <td>7.7</td>\n",
              "      <td>https://static.tvmaze.com/uploads/images/mediu...</td>\n",
              "      <td>https://static.tvmaze.com/uploads/images/origi...</td>\n",
              "    </tr>\n",
              "    <tr>\n",
              "      <th>2</th>\n",
              "      <td>911204</td>\n",
              "      <td>https://www.tvmaze.com/episodes/911204/westwor...</td>\n",
              "      <td>The Stray</td>\n",
              "      <td>1</td>\n",
              "      <td>3</td>\n",
              "      <td>regular</td>\n",
              "      <td>2016-10-16</td>\n",
              "      <td>09:00 PM</td>\n",
              "      <td>60</td>\n",
              "      <td>Bernard continues to investigate Dolores' supp...</td>\n",
              "      <td>7.6</td>\n",
              "      <td>https://static.tvmaze.com/uploads/images/mediu...</td>\n",
              "      <td>https://static.tvmaze.com/uploads/images/origi...</td>\n",
              "    </tr>\n",
              "    <tr>\n",
              "      <th>3</th>\n",
              "      <td>911205</td>\n",
              "      <td>https://www.tvmaze.com/episodes/911205/westwor...</td>\n",
              "      <td>Dissonance Theory</td>\n",
              "      <td>1</td>\n",
              "      <td>4</td>\n",
              "      <td>regular</td>\n",
              "      <td>2016-10-23</td>\n",
              "      <td>09:00 PM</td>\n",
              "      <td>60</td>\n",
              "      <td>While Dolores joins William and Logan on their...</td>\n",
              "      <td>7.9</td>\n",
              "      <td>https://static.tvmaze.com/uploads/images/mediu...</td>\n",
              "      <td>https://static.tvmaze.com/uploads/images/origi...</td>\n",
              "    </tr>\n",
              "    <tr>\n",
              "      <th>4</th>\n",
              "      <td>927174</td>\n",
              "      <td>https://www.tvmaze.com/episodes/927174/westwor...</td>\n",
              "      <td>Contrapasso</td>\n",
              "      <td>1</td>\n",
              "      <td>5</td>\n",
              "      <td>regular</td>\n",
              "      <td>2016-10-30</td>\n",
              "      <td>09:00 PM</td>\n",
              "      <td>60</td>\n",
              "      <td>Dolores takes the first step on her path of di...</td>\n",
              "      <td>8.0</td>\n",
              "      <td>https://static.tvmaze.com/uploads/images/mediu...</td>\n",
              "      <td>https://static.tvmaze.com/uploads/images/origi...</td>\n",
              "    </tr>\n",
              "  </tbody>\n",
              "</table>\n",
              "</div>"
            ],
            "text/plain": [
              "       id                                                url  \\\n",
              "0  869671  https://www.tvmaze.com/episodes/869671/westwor...   \n",
              "1  911201  https://www.tvmaze.com/episodes/911201/westwor...   \n",
              "2  911204  https://www.tvmaze.com/episodes/911204/westwor...   \n",
              "3  911205  https://www.tvmaze.com/episodes/911205/westwor...   \n",
              "4  927174  https://www.tvmaze.com/episodes/927174/westwor...   \n",
              "\n",
              "                name  season  number     type    airdate   airtime  runtime  \\\n",
              "0       The Original       1       1  regular 2016-10-02  09:00 PM       68   \n",
              "1           Chestnut       1       2  regular 2016-10-09  09:00 PM       60   \n",
              "2          The Stray       1       3  regular 2016-10-16  09:00 PM       60   \n",
              "3  Dissonance Theory       1       4  regular 2016-10-23  09:00 PM       60   \n",
              "4        Contrapasso       1       5  regular 2016-10-30  09:00 PM       60   \n",
              "\n",
              "                                             summary  average_rating  \\\n",
              "0  A woman named Dolores is a free spirit in the ...             8.0   \n",
              "1  Bernard suspects that someone is sabotaging th...             7.7   \n",
              "2  Bernard continues to investigate Dolores' supp...             7.6   \n",
              "3  While Dolores joins William and Logan on their...             7.9   \n",
              "4  Dolores takes the first step on her path of di...             8.0   \n",
              "\n",
              "                                        medium_image  \\\n",
              "0  https://static.tvmaze.com/uploads/images/mediu...   \n",
              "1  https://static.tvmaze.com/uploads/images/mediu...   \n",
              "2  https://static.tvmaze.com/uploads/images/mediu...   \n",
              "3  https://static.tvmaze.com/uploads/images/mediu...   \n",
              "4  https://static.tvmaze.com/uploads/images/mediu...   \n",
              "\n",
              "                                      original_image  \n",
              "0  https://static.tvmaze.com/uploads/images/origi...  \n",
              "1  https://static.tvmaze.com/uploads/images/origi...  \n",
              "2  https://static.tvmaze.com/uploads/images/origi...  \n",
              "3  https://static.tvmaze.com/uploads/images/origi...  \n",
              "4  https://static.tvmaze.com/uploads/images/origi...  "
            ]
          },
          "execution_count": 1,
          "metadata": {},
          "output_type": "execute_result"
        }
      ],
      "source": [
        "import numpy as np\n",
        "import pandas as pd\n",
        "# reading the data from result of answer 5 solution\n",
        "data = pd.read_csv('data.csv', parse_dates=['airdate'])\n",
        "data.head()"
      ],
      "id": "0204ca43"
    },
    {
      "cell_type": "markdown",
      "metadata": {},
      "source": [
        "### Overall ratings for each seasons."
      ],
      "id": "5ec2d667"
    },
    {
      "cell_type": "code",
      "execution_count": 2,
      "metadata": {},
      "outputs": [
        {
          "data": {
            "text/plain": [
              "season\n",
              "1    8.00\n",
              "2    7.85\n",
              "3    7.80\n",
              "4    7.55\n",
              "Name: average_rating, dtype: float64"
            ]
          },
          "execution_count": 2,
          "metadata": {},
          "output_type": "execute_result"
        }
      ],
      "source": [
        "data.groupby('season')['average_rating'].median()"
      ],
      "id": "fe61e88e"
    },
    {
      "cell_type": "code",
      "execution_count": 3,
      "metadata": {},
      "outputs": [
        {
          "data": {
            "image/png": "[encoded data removed]",
            "text/plain": [
              "<Figure size 1440x720 with 2 Axes>"
            ]
          },
          "metadata": {
            "needs_background": "light"
          },
          "output_type": "display_data"
        }
      ],
      "source": [
        "import matplotlib.pyplot as plt\n",
        "import seaborn as sns\n",
        "# grouping the data by season and selecting average_rating's mean\n",
        "grouped = data.groupby('season')['average_rating'].mean()\n",
        "# creating figure and axes\n",
        "fig, (ax_1, ax_2) = plt.subplots(1, 2, figsize=(20, 10))\n",
        "# plotting the grouped data\n",
        "rect = ax_1.bar(grouped.index, grouped.values)\n",
        "# putting the value of rating above bar\n",
        "ax_1.bar_label(rect, padding=3)\n",
        "# changing the limit of y to 1 to 9\n",
        "ax_1.set_ylim(1, 9)\n",
        "ax_1.set_xticks(grouped.index)\n",
        "ax_1.set_ylabel('Ratings')\n",
        "ax_1.set_xlabel('Seasons')\n",
        "# scatter plotting the season and average_rating\n",
        "sns.scatterplot(data=data, x='season', y='average_rating', ax=ax_2)\n",
        "ax_2.set_xlabel('Seasons')\n",
        "ax_2.set_ylabel('Ratings')\n",
        "ax_2.set_xticks([1, 2, 3, 4])\n",
        "plt.show()"
      ],
      "id": "59253388"
    },
    {
      "cell_type": "markdown",
      "metadata": {},
      "source": [
        "### Episodes whose average rating is more than 8."
      ],
      "id": "9812751f"
    },
    {
      "cell_type": "code",
      "execution_count": 4,
      "metadata": {},
      "outputs": [
        {
          "data": {
            "text/plain": [
              "6                 Trompe L'Oeil\n",
              "8     The Well-Tempered Clavier\n",
              "9            The Bicameral Mind\n",
              "17                      Kiksuya\n",
              "18              Vanishing Point\n",
              "19                The Passenger\n",
              "Name: name, dtype: object"
            ]
          },
          "execution_count": 4,
          "metadata": {},
          "output_type": "execute_result"
        }
      ],
      "source": [
        "data[data.average_rating > 8].name"
      ],
      "id": "176b0c0c"
    },
    {
      "cell_type": "code",
      "execution_count": 5,
      "metadata": {},
      "outputs": [
        {
          "data": {
            "image/png": "[encoded data removed]",
            "text/plain": [
              "<Figure size 432x288 with 1 Axes>"
            ]
          },
          "metadata": {},
          "output_type": "display_data"
        }
      ],
      "source": [
        "import matplotlib.pyplot as plt\n",
        "\n",
        "# rating that above 8\n",
        "ratings = data.average_rating > 8\n",
        "\n",
        "\n",
        "labels = 'Rating below 8', 'Rating above 8'\n",
        "# size of rating below 8 and rating above 8\n",
        "sizes = [len(ratings)- ratings.sum(), ratings.sum()]\n",
        "# creating figure and axes\n",
        "fig, ax = plt.subplots()\n",
        "# setting the title of plot\n",
        "ax.set_title('Ratings')\n",
        "# ploting a pie\n",
        "ax.pie(\n",
        "    x=sizes, \n",
        "    labels=labels,\n",
        "    radius=2,\n",
        "    autopct='%1.1f%%',\n",
        "    explode=[0, 0.1])\n",
        "\n",
        "plt.show()"
      ],
      "id": "ca2e4c35"
    },
    {
      "cell_type": "markdown",
      "metadata": {},
      "source": [
        "### Episodes names that aired before May 2019."
      ],
      "id": "2c597fcc"
    },
    {
      "cell_type": "code",
      "execution_count": 6,
      "metadata": {},
      "outputs": [
        {
          "data": {
            "text/plain": [
              "0                  The Original\n",
              "1                      Chestnut\n",
              "2                     The Stray\n",
              "3             Dissonance Theory\n",
              "4                   Contrapasso\n",
              "5                 The Adversary\n",
              "6                 Trompe L'Oeil\n",
              "7                   Trace Decay\n",
              "8     The Well-Tempered Clavier\n",
              "9            The Bicameral Mind\n",
              "10           Journey Into Night\n",
              "11                      Reunion\n",
              "12              Virtù e Fortuna\n",
              "13     The Riddle of the Sphinx\n",
              "14                 Akane No Mai\n",
              "15                  Phase Space\n",
              "16                 Les Écorchés\n",
              "17                      Kiksuya\n",
              "18              Vanishing Point\n",
              "19                The Passenger\n",
              "Name: name, dtype: object"
            ]
          },
          "execution_count": 6,
          "metadata": {},
          "output_type": "execute_result"
        }
      ],
      "source": [
        "data[data.airdate < pd.to_datetime('2019-05')].name"
      ],
      "id": "46893706"
    },
    {
      "cell_type": "markdown",
      "metadata": {},
      "source": [
        "Plotting the all episodes airdate"
      ],
      "id": "e07ed7b9"
    },
    {
      "cell_type": "code",
      "execution_count": 7,
      "metadata": {},
      "outputs": [
        {
          "data": {
            "image/png": "[encoded data removed]",
            "text/plain": [
              "<Figure size 2160x720 with 1 Axes>"
            ]
          },
          "metadata": {
            "needs_background": "light"
          },
          "output_type": "display_data"
        }
      ],
      "source": [
        "# creating figure and axes\n",
        "fig, ax = plt.subplots(figsize=(30, 10))\n",
        "# generating dates from 2016-05 to 2022-08\n",
        "dates = pd.date_range('2016-10', '2022-08').strftime('%Y-%m')\n",
        "# Counting the episodes by dataes\n",
        "episodes_count = data.airdate.dt.strftime('%Y-%m').value_counts()\n",
        "episodes = dates.map(episodes_count).fillna(0)\n",
        "# plotting the data\n",
        "sns.barplot(x=dates, y=episodes, ax=ax)\n",
        "ax.set_ylabel('Episodes')\n",
        "ax.set_xlabel('AirDate')\n",
        "# rotating the xticks to 90 degree\n",
        "plt.xticks(rotation=90)\n",
        "plt.show()"
      ],
      "id": "982e097b"
    },
    {
      "cell_type": "markdown",
      "metadata": {},
      "source": [
        "### The episode name from each season with the highest and lowest rating"
      ],
      "id": "91f08712"
    },
    {
      "cell_type": "code",
      "execution_count": 8,
      "metadata": {},
      "outputs": [
        {
          "data": {
            "text/html": [
              "<div>\n",
              "<style scoped>\n",
              "    .dataframe tbody tr th:only-of-type {\n",
              "        vertical-align: middle;\n",
              "    }\n",
              "\n",
              "    .dataframe tbody tr th {\n",
              "        vertical-align: top;\n",
              "    }\n",
              "\n",
              "    .dataframe thead tr th {\n",
              "        text-align: left;\n",
              "    }\n",
              "\n",
              "    .dataframe thead tr:last-of-type th {\n",
              "        text-align: right;\n",
              "    }\n",
              "</style>\n",
              "<table border=\"1\" class=\"dataframe\">\n",
              "  <thead>\n",
              "    <tr>\n",
              "      <th></th>\n",
              "      <th colspan=\"2\" halign=\"left\">name</th>\n",
              "      <th colspan=\"2\" halign=\"left\">average_rating</th>\n",
              "    </tr>\n",
              "    <tr>\n",
              "      <th></th>\n",
              "      <th>max</th>\n",
              "      <th>min</th>\n",
              "      <th>max</th>\n",
              "      <th>min</th>\n",
              "    </tr>\n",
              "    <tr>\n",
              "      <th>season</th>\n",
              "      <th></th>\n",
              "      <th></th>\n",
              "      <th></th>\n",
              "      <th></th>\n",
              "    </tr>\n",
              "  </thead>\n",
              "  <tbody>\n",
              "    <tr>\n",
              "      <th>1</th>\n",
              "      <td>Trompe L'Oeil</td>\n",
              "      <td>Chestnut</td>\n",
              "      <td>8.7</td>\n",
              "      <td>7.6</td>\n",
              "    </tr>\n",
              "    <tr>\n",
              "      <th>2</th>\n",
              "      <td>Virtù e Fortuna</td>\n",
              "      <td>Akane No Mai</td>\n",
              "      <td>8.7</td>\n",
              "      <td>7.6</td>\n",
              "    </tr>\n",
              "    <tr>\n",
              "      <th>3</th>\n",
              "      <td>The Winter Line</td>\n",
              "      <td>Crisis Theory</td>\n",
              "      <td>8.0</td>\n",
              "      <td>7.5</td>\n",
              "    </tr>\n",
              "    <tr>\n",
              "      <th>4</th>\n",
              "      <td>Zhuangzi</td>\n",
              "      <td>Années Folles</td>\n",
              "      <td>7.8</td>\n",
              "      <td>7.1</td>\n",
              "    </tr>\n",
              "  </tbody>\n",
              "</table>\n",
              "</div>"
            ],
            "text/plain": [
              "                   name                average_rating     \n",
              "                    max            min            max  min\n",
              "season                                                    \n",
              "1         Trompe L'Oeil       Chestnut            8.7  7.6\n",
              "2       Virtù e Fortuna   Akane No Mai            8.7  7.6\n",
              "3       The Winter Line  Crisis Theory            8.0  7.5\n",
              "4              Zhuangzi  Années Folles            7.8  7.1"
            ]
          },
          "execution_count": 8,
          "metadata": {},
          "output_type": "execute_result"
        }
      ],
      "source": [
        "# grouping the data by season then aggerating max and min rating\n",
        "season_min_max = data.groupby('season')[['name', 'average_rating']].agg(('max', 'min'))\n",
        "season_min_max"
      ],
      "id": "06300e73"
    },
    {
      "cell_type": "code",
      "execution_count": 9,
      "metadata": {},
      "outputs": [
        {
          "data": {
            "image/png": "[encoded data removed]",
            "text/plain": [
              "<Figure size 720x576 with 1 Axes>"
            ]
          },
          "metadata": {
            "needs_background": "light"
          },
          "output_type": "display_data"
        }
      ],
      "source": [
        "width = 0.25\n",
        "multiplier = 0\n",
        "x = np.arange(season_min_max.shape[0])\n",
        "\n",
        "# creating figure and axex\n",
        "fig, ax = plt.subplots(layout='constrained', figsize=(10, 8))\n",
        "# plotting the bar graph\n",
        "for ratings in season_min_max['average_rating'].values.T:\n",
        "     offset = width * multiplier\n",
        "     rect = ax.bar(x + offset, ratings, width)\n",
        "     # putting the actual value above bar\n",
        "     ax.bar_label(rect, padding=3)\n",
        "     multiplier += 1\n",
        "\n",
        "# putting names of episodes on each bar\n",
        "i=0\n",
        "for Max, Min in season_min_max['name'].values:\n",
        "     ax.text(i, 3, Max, color='white', fontsize=15, rotation='vertical')\n",
        "     ax.text(i + width, 3, Min, color='white', fontsize=15, rotation='vertical')\n",
        "     i += 1\n",
        "# offset the xticks\n",
        "ax.set_xticks(x+.1, season_min_max.index)\n",
        "ax.set_ylim(0, 10)\n",
        "ax.set_xlabel('Seasons')\n",
        "ax.set_ylabel('Ratings')\n",
        "plt.show()"
      ],
      "id": "20e7b27e"
    },
    {
      "cell_type": "markdown",
      "metadata": {},
      "source": [
        "### Summary for the most popular by ratings episodes in every season."
      ],
      "id": "2cfd5556"
    },
    {
      "cell_type": "code",
      "execution_count": 10,
      "metadata": {},
      "outputs": [
        {
          "data": {
            "text/html": [
              "<div>\n",
              "<style scoped>\n",
              "    .dataframe tbody tr th:only-of-type {\n",
              "        vertical-align: middle;\n",
              "    }\n",
              "\n",
              "    .dataframe tbody tr th {\n",
              "        vertical-align: top;\n",
              "    }\n",
              "\n",
              "    .dataframe thead th {\n",
              "        text-align: right;\n",
              "    }\n",
              "</style>\n",
              "<table border=\"1\" class=\"dataframe\">\n",
              "  <thead>\n",
              "    <tr style=\"text-align: right;\">\n",
              "      <th></th>\n",
              "      <th>summary</th>\n",
              "      <th>average_rating</th>\n",
              "    </tr>\n",
              "    <tr>\n",
              "      <th>season</th>\n",
              "      <th></th>\n",
              "      <th></th>\n",
              "    </tr>\n",
              "  </thead>\n",
              "  <tbody>\n",
              "    <tr>\n",
              "      <th>1</th>\n",
              "      <td>While William and Dolores travel to the unclai...</td>\n",
              "      <td>8.7</td>\n",
              "    </tr>\n",
              "    <tr>\n",
              "      <th>2</th>\n",
              "      <td>William pays his recuperating father-in-law se...</td>\n",
              "      <td>8.7</td>\n",
              "    </tr>\n",
              "    <tr>\n",
              "      <th>3</th>\n",
              "      <td>Time to face the music. Dolores' true intentio...</td>\n",
              "      <td>8.0</td>\n",
              "    </tr>\n",
              "    <tr>\n",
              "      <th>4</th>\n",
              "      <td>You want to have a drink at a time like this?</td>\n",
              "      <td>7.8</td>\n",
              "    </tr>\n",
              "  </tbody>\n",
              "</table>\n",
              "</div>"
            ],
            "text/plain": [
              "                                                  summary  average_rating\n",
              "season                                                                   \n",
              "1       While William and Dolores travel to the unclai...             8.7\n",
              "2       William pays his recuperating father-in-law se...             8.7\n",
              "3       Time to face the music. Dolores' true intentio...             8.0\n",
              "4           You want to have a drink at a time like this?             7.8"
            ]
          },
          "execution_count": 10,
          "metadata": {},
          "output_type": "execute_result"
        }
      ],
      "source": [
        "# grouping the data by season and selecting summary which has highest rating\n",
        "data.groupby('season')[['summary', 'average_rating']].max()"
      ],
      "id": "d263749e"
    }
  ],
  "metadata": {
    "kernelspec": {
      "display_name": "Python 3",
      "language": "python",
      "name": "python3"
    },
    "language_info": {
      "codemirror_mode": {
        "name": "ipython",
        "version": 3
      },
      "file_extension": ".py",
      "mimetype": "text/x-python",
      "name": "python",
      "nbconvert_exporter": "python",
      "pygments_lexer": "ipython3",
      "version": "3.10.2"
    },
    "orig_nbformat": 4,
    "vscode": {
      "interpreter": {
        "hash": "2469a70536e4d2335a2ea8907942d0699c37342a371ac185bdb5b0aa6f073890"
      }
    }
  },
  "nbformat": 4,
  "nbformat_minor": 5
}