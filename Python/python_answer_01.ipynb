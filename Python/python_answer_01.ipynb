{
 "cells": [
  {
   "attachments": {},
   "cell_type": "markdown",
   "metadata": {},
   "source": [
    "# Python Answer 1"
   ]
  },
  {
   "attachments": {},
   "cell_type": "markdown",
   "metadata": {},
   "source": [
    "A Program that takes a string as input and counts the frequency of each word in the string and returns the length of the highest-frequency word."
   ]
  },
  {
   "cell_type": "code",
   "execution_count": 1,
   "metadata": {},
   "outputs": [],
   "source": [
    "def high_frequency(string: str) -> int:\n",
    "    \n",
    "    '''Return the length of highest frequency word in string.'''\n",
    "\n",
    "    # count store the number of frequency of a word\n",
    "    # w_length store the length of corrosponding word\n",
    "    count, w_length = 0, 0\n",
    "\n",
    "    # split the string into a list of words\n",
    "    string = string.split()\n",
    "    # storing the unique words in the strings into unique_words\n",
    "    unique_words = set(string)\n",
    "    \n",
    "\n",
    "    for word in unique_words:\n",
    "        # Here if the frequency of word is more than on previous word that update the count and corresponding w_length\n",
    "        if (n:=string.count(word)) > count:\n",
    "            count = n\n",
    "            w_length = len(word)\n",
    "        # Here if the frequency of word is same but the length of word is greater than of previous word than update w_length\n",
    "        elif n == count and len(word) > w_length:\n",
    "            w_length = len(word)\n",
    "            \n",
    "    # returning the length of highest frequency word\n",
    "    return w_length"
   ]
  },
  {
   "attachments": {},
   "cell_type": "markdown",
   "metadata": {},
   "source": [
    "## Test Cases"
   ]
  },
  {
   "cell_type": "code",
   "execution_count": 2,
   "metadata": {},
   "outputs": [
    {
     "name": "stdout",
     "output_type": "stream",
     "text": [
      "INPUT: write write write all the number from from from 1 to 100\n",
      "OUTPUT: 5 \n",
      "\n",
      "INPUT: Team Hello message ineuron flower ineuron red outline run python ineuron red cake ineuron\n",
      "OUTPUT: 7 \n",
      "\n",
      "INPUT: There are following something something answer the read me following\n",
      "OUTPUT: 9 \n",
      "\n",
      "INPUT: unusual ripe finish epic numpy bumpy\n",
      "OUTPUT: 7 \n",
      "\n",
      "INPUT: \n",
      "OUTPUT: 0 \n",
      "\n",
      "INPUT: 1234\n",
      "OUTPUT: 4 \n",
      "\n"
     ]
    }
   ],
   "source": [
    "test_cases = [\n",
    "    'write write write all the number from from from 1 to 100',\n",
    "    'Team Hello message ineuron flower ineuron red outline run python ineuron red cake ineuron',\n",
    "    'There are following something something answer the read me following',\n",
    "    'unusual ripe finish epic numpy bumpy',\n",
    "    '',\n",
    "    '1234'\n",
    "]\n",
    "\n",
    "for test in test_cases:\n",
    "    print('INPUT:', test)\n",
    "    print('OUTPUT:', high_frequency(test), '\\n')"
   ]
  },
  {
   "attachments": {},
   "cell_type": "markdown",
   "metadata": {},
   "source": [
    "## Test Case Explanation"
   ]
  },
  {
   "attachments": {},
   "cell_type": "markdown",
   "metadata": {},
   "source": [
    "In the __first test_case__ the words `write` and `from` appear 3 times so function return the length of `write` as its length is greater than `from`.<br />\n",
    "In the __second test_case__ the word `ineuron` appear most times so function return the length of word `ineuron`.<br />\n",
    "In the __third test_case__ the words `following` and `something` appear most times so function return the length of word based on which one more character.<br />\n",
    "In the __forth test_case__ all words appear only once so function return the length of word whose length is greatest.<br />\n",
    "In the __fifth test_case__ input is empty string so function return 0.<br />\n",
    "In the __sixth test_case__ there is only one word in string so function return the length of that word."
   ]
  }
 ],
 "metadata": {
  "kernelspec": {
   "display_name": "Python 3",
   "language": "python",
   "name": "python3"
  },
  "language_info": {
   "codemirror_mode": {
    "name": "ipython",
    "version": 3
   },
   "file_extension": ".py",
   "mimetype": "text/x-python",
   "name": "python",
   "nbconvert_exporter": "python",
   "pygments_lexer": "ipython3",
   "version": "3.10.2"
  },
  "orig_nbformat": 4,
  "vscode": {
   "interpreter": {
    "hash": "2469a70536e4d2335a2ea8907942d0699c37342a371ac185bdb5b0aa6f073890"
   }
  }
 },
 "nbformat": 4,
 "nbformat_minor": 2
}
